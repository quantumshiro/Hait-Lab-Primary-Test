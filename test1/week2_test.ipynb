{
 "cells": [
  {
   "cell_type": "markdown",
   "source": [
    "# HAITLab 第一回小テスト(〜「正則化」)"
   ],
   "metadata": {}
  },
  {
   "cell_type": "markdown",
   "source": [
    "### 問1 FizzBuzz(3点)\n",
    "<font size=\"3\" >[アルゴリズム]</font><br>\n",
    "数字を1からnまでを順に出力する。ただし、3で割り切れる時は、**\"Fizz\"**、5で割り切れる時は**\"Buzz\"**、15で割り切れる時は、**\"FIzzBuzz\"**と数字の代わりに出力する。以下はFizzBuzzゲームの進行例である。\n",
    "\n",
    "\n",
    ">1 2, Fizz 4 Buzz Fizz 7 8 FizBuzz 11 Fizz 13 14 FizzBuzz 16 17 Fizz 19 Buzz ...."
   ],
   "metadata": {}
  },
  {
   "cell_type": "code",
   "execution_count": 196,
   "source": [
    "##FizzBuzz 1~100の数字でFIzzBuzzゲームを実装する(3点)\n",
    "\n",
    "print(\"\\n\".join(\"FizzBuzz\" if i % 15 == 0 else \"Buzz\" if i % 5 == 0 else \"Fizz\" if i % 3 == 0 else str(i) for i in range(1, 101)))\n",
    "\n",
    "        \n",
    "#endは出力を縦長にしないために書いたため、なくても良い"
   ],
   "outputs": [
    {
     "output_type": "stream",
     "name": "stdout",
     "text": [
      "1\n",
      "2\n",
      "Fizz\n",
      "4\n",
      "Buzz\n",
      "Fizz\n",
      "7\n",
      "8\n",
      "Fizz\n",
      "Buzz\n",
      "11\n",
      "Fizz\n",
      "13\n",
      "14\n",
      "FizzBuzz\n",
      "16\n",
      "17\n",
      "Fizz\n",
      "19\n",
      "Buzz\n",
      "Fizz\n",
      "22\n",
      "23\n",
      "Fizz\n",
      "Buzz\n",
      "26\n",
      "Fizz\n",
      "28\n",
      "29\n",
      "FizzBuzz\n",
      "31\n",
      "32\n",
      "Fizz\n",
      "34\n",
      "Buzz\n",
      "Fizz\n",
      "37\n",
      "38\n",
      "Fizz\n",
      "Buzz\n",
      "41\n",
      "Fizz\n",
      "43\n",
      "44\n",
      "FizzBuzz\n",
      "46\n",
      "47\n",
      "Fizz\n",
      "49\n",
      "Buzz\n",
      "Fizz\n",
      "52\n",
      "53\n",
      "Fizz\n",
      "Buzz\n",
      "56\n",
      "Fizz\n",
      "58\n",
      "59\n",
      "FizzBuzz\n",
      "61\n",
      "62\n",
      "Fizz\n",
      "64\n",
      "Buzz\n",
      "Fizz\n",
      "67\n",
      "68\n",
      "Fizz\n",
      "Buzz\n",
      "71\n",
      "Fizz\n",
      "73\n",
      "74\n",
      "FizzBuzz\n",
      "76\n",
      "77\n",
      "Fizz\n",
      "79\n",
      "Buzz\n",
      "Fizz\n",
      "82\n",
      "83\n",
      "Fizz\n",
      "Buzz\n",
      "86\n",
      "Fizz\n",
      "88\n",
      "89\n",
      "FizzBuzz\n",
      "91\n",
      "92\n",
      "Fizz\n",
      "94\n",
      "Buzz\n",
      "Fizz\n",
      "97\n",
      "98\n",
      "Fizz\n",
      "Buzz\n"
     ]
    }
   ],
   "metadata": {}
  },
  {
   "cell_type": "markdown",
   "source": [
    "### 問2 Matplotlib/numpy(15点)\n",
    "`fruits.txt`という10種類の果物を1000個書き込んだテキストファイルがある。\n",
    "`fruits.txt`は以下の形式である。`¥n`は改行コードである。\n",
    "```\n",
    "apple¥n\n",
    "banana¥n\n",
    "   .\n",
    "   .\n",
    "   .\n",
    "```\n",
    "\n",
    "このファイルを解析する以下の問いに答えよ"
   ],
   "metadata": {}
  },
  {
   "cell_type": "code",
   "execution_count": 197,
   "source": [
    "#一度だけ実行すること\n",
    "\n",
    "#randomをimportする\n",
    "import random\n",
    "random.seed(1)\n",
    "\n",
    "#fruits.txtファイルを作成する\n",
    "with open('fruits.txt','w') as f:\n",
    "    for _ in range(1000):\n",
    "        f.write(random.choice(['apple', 'orange', 'strawberry', 'cherry', 'plum','banana', 'grape','lime', 'peach', 'watermelon'])+'\\n')"
   ],
   "outputs": [],
   "metadata": {}
  },
  {
   "cell_type": "markdown",
   "source": [
    "### (1)`fruits.txt`からデータを読み込み、list型の変数`fruits`を作成せよ(2点)\n",
    ">fruits = [apple,banana, ....]"
   ],
   "metadata": {}
  },
  {
   "cell_type": "markdown",
   "source": [
    "<font size=\"3\" >[ヒント]</font>  \n",
    "ファイルの読み込みには`with open('filepath','r') as f`を使う"
   ],
   "metadata": {}
  },
  {
   "cell_type": "code",
   "execution_count": 198,
   "source": [
    "#listにする(2点)\n",
    "\n",
    "with open('fruits.txt', 'r', encoding=\"UTF-8\") as f:\n",
    "    fruits = f.read().splitlines()\n",
    "\n",
    "print(fruits)"
   ],
   "outputs": [
    {
     "output_type": "stream",
     "name": "stdout",
     "text": [
      "['strawberry', 'watermelon', 'orange', 'plum', 'orange', 'lime', 'lime', 'lime', 'grape', 'cherry', 'orange', 'lime', 'apple', 'grape', 'grape', 'watermelon', 'apple', 'lime', 'plum', 'cherry', 'watermelon', 'orange', 'banana', 'apple', 'apple', 'apple', 'peach', 'apple', 'grape', 'cherry', 'grape', 'apple', 'peach', 'cherry', 'lime', 'lime', 'peach', 'cherry', 'banana', 'cherry', 'cherry', 'lime', 'plum', 'apple', 'grape', 'peach', 'orange', 'strawberry', 'plum', 'orange', 'banana', 'peach', 'grape', 'peach', 'cherry', 'plum', 'plum', 'watermelon', 'lime', 'peach', 'grape', 'watermelon', 'apple', 'lime', 'cherry', 'grape', 'grape', 'strawberry', 'banana', 'peach', 'banana', 'orange', 'lime', 'peach', 'orange', 'strawberry', 'peach', 'grape', 'banana', 'lime', 'apple', 'lime', 'apple', 'plum', 'watermelon', 'watermelon', 'watermelon', 'grape', 'strawberry', 'strawberry', 'peach', 'cherry', 'apple', 'cherry', 'peach', 'peach', 'cherry', 'grape', 'peach', 'banana', 'watermelon', 'banana', 'lime', 'plum', 'peach', 'watermelon', 'apple', 'grape', 'peach', 'strawberry', 'peach', 'peach', 'cherry', 'grape', 'apple', 'lime', 'banana', 'watermelon', 'peach', 'cherry', 'peach', 'grape', 'lime', 'banana', 'grape', 'banana', 'apple', 'peach', 'peach', 'watermelon', 'watermelon', 'banana', 'lime', 'watermelon', 'apple', 'cherry', 'strawberry', 'peach', 'watermelon', 'strawberry', 'orange', 'peach', 'plum', 'apple', 'orange', 'orange', 'apple', 'lime', 'apple', 'plum', 'cherry', 'plum', 'orange', 'watermelon', 'strawberry', 'banana', 'plum', 'orange', 'strawberry', 'strawberry', 'plum', 'peach', 'strawberry', 'plum', 'plum', 'lime', 'banana', 'lime', 'lime', 'orange', 'apple', 'plum', 'grape', 'banana', 'grape', 'cherry', 'plum', 'orange', 'plum', 'peach', 'cherry', 'watermelon', 'grape', 'apple', 'cherry', 'apple', 'grape', 'strawberry', 'apple', 'strawberry', 'lime', 'peach', 'grape', 'peach', 'cherry', 'peach', 'lime', 'cherry', 'peach', 'apple', 'grape', 'watermelon', 'banana', 'grape', 'apple', 'plum', 'strawberry', 'cherry', 'apple', 'plum', 'orange', 'orange', 'plum', 'plum', 'strawberry', 'grape', 'watermelon', 'plum', 'strawberry', 'apple', 'peach', 'apple', 'watermelon', 'cherry', 'watermelon', 'lime', 'strawberry', 'watermelon', 'peach', 'apple', 'grape', 'cherry', 'banana', 'orange', 'cherry', 'watermelon', 'grape', 'watermelon', 'cherry', 'lime', 'orange', 'grape', 'plum', 'peach', 'lime', 'apple', 'banana', 'watermelon', 'grape', 'plum', 'apple', 'strawberry', 'cherry', 'banana', 'watermelon', 'strawberry', 'banana', 'grape', 'cherry', 'plum', 'orange', 'grape', 'peach', 'banana', 'peach', 'lime', 'peach', 'cherry', 'orange', 'apple', 'orange', 'strawberry', 'strawberry', 'strawberry', 'peach', 'cherry', 'plum', 'banana', 'watermelon', 'peach', 'plum', 'banana', 'banana', 'banana', 'orange', 'plum', 'cherry', 'watermelon', 'lime', 'strawberry', 'watermelon', 'peach', 'orange', 'banana', 'apple', 'grape', 'orange', 'grape', 'strawberry', 'strawberry', 'banana', 'orange', 'watermelon', 'watermelon', 'grape', 'orange', 'watermelon', 'peach', 'cherry', 'watermelon', 'orange', 'plum', 'banana', 'plum', 'watermelon', 'peach', 'orange', 'lime', 'plum', 'orange', 'apple', 'plum', 'apple', 'watermelon', 'apple', 'orange', 'grape', 'orange', 'apple', 'cherry', 'cherry', 'watermelon', 'grape', 'strawberry', 'orange', 'lime', 'strawberry', 'cherry', 'strawberry', 'orange', 'grape', 'grape', 'peach', 'plum', 'peach', 'plum', 'lime', 'banana', 'orange', 'cherry', 'banana', 'apple', 'apple', 'apple', 'plum', 'watermelon', 'banana', 'lime', 'grape', 'banana', 'grape', 'orange', 'orange', 'banana', 'watermelon', 'lime', 'orange', 'plum', 'cherry', 'watermelon', 'peach', 'lime', 'banana', 'plum', 'strawberry', 'peach', 'cherry', 'plum', 'cherry', 'cherry', 'banana', 'orange', 'plum', 'orange', 'lime', 'orange', 'watermelon', 'banana', 'cherry', 'grape', 'plum', 'apple', 'banana', 'strawberry', 'banana', 'watermelon', 'plum', 'cherry', 'banana', 'orange', 'peach', 'watermelon', 'watermelon', 'watermelon', 'orange', 'cherry', 'cherry', 'apple', 'cherry', 'grape', 'orange', 'plum', 'peach', 'orange', 'orange', 'apple', 'apple', 'plum', 'banana', 'lime', 'lime', 'strawberry', 'orange', 'peach', 'banana', 'orange', 'peach', 'strawberry', 'strawberry', 'strawberry', 'strawberry', 'banana', 'plum', 'orange', 'peach', 'watermelon', 'plum', 'strawberry', 'cherry', 'strawberry', 'peach', 'apple', 'banana', 'watermelon', 'peach', 'cherry', 'strawberry', 'plum', 'grape', 'peach', 'strawberry', 'apple', 'cherry', 'plum', 'orange', 'lime', 'grape', 'peach', 'plum', 'peach', 'lime', 'peach', 'lime', 'apple', 'grape', 'banana', 'strawberry', 'plum', 'lime', 'apple', 'grape', 'watermelon', 'apple', 'apple', 'banana', 'watermelon', 'strawberry', 'watermelon', 'strawberry', 'strawberry', 'plum', 'plum', 'grape', 'watermelon', 'grape', 'strawberry', 'watermelon', 'orange', 'cherry', 'lime', 'apple', 'strawberry', 'peach', 'banana', 'peach', 'lime', 'cherry', 'cherry', 'banana', 'lime', 'lime', 'cherry', 'grape', 'banana', 'peach', 'watermelon', 'plum', 'cherry', 'apple', 'orange', 'peach', 'banana', 'strawberry', 'peach', 'cherry', 'plum', 'plum', 'plum', 'peach', 'banana', 'strawberry', 'lime', 'watermelon', 'orange', 'orange', 'watermelon', 'peach', 'watermelon', 'grape', 'strawberry', 'strawberry', 'plum', 'grape', 'cherry', 'watermelon', 'apple', 'lime', 'grape', 'banana', 'grape', 'peach', 'strawberry', 'peach', 'apple', 'peach', 'orange', 'plum', 'orange', 'plum', 'orange', 'strawberry', 'watermelon', 'orange', 'lime', 'cherry', 'grape', 'grape', 'grape', 'strawberry', 'banana', 'lime', 'strawberry', 'watermelon', 'lime', 'cherry', 'orange', 'grape', 'watermelon', 'peach', 'grape', 'orange', 'plum', 'plum', 'cherry', 'grape', 'peach', 'apple', 'cherry', 'peach', 'lime', 'watermelon', 'apple', 'apple', 'watermelon', 'cherry', 'plum', 'cherry', 'strawberry', 'plum', 'strawberry', 'peach', 'cherry', 'plum', 'plum', 'watermelon', 'plum', 'lime', 'strawberry', 'peach', 'banana', 'lime', 'grape', 'orange', 'cherry', 'watermelon', 'grape', 'cherry', 'plum', 'orange', 'apple', 'orange', 'watermelon', 'apple', 'peach', 'plum', 'strawberry', 'orange', 'peach', 'banana', 'watermelon', 'plum', 'grape', 'peach', 'banana', 'peach', 'banana', 'apple', 'orange', 'lime', 'lime', 'banana', 'plum', 'peach', 'grape', 'banana', 'watermelon', 'lime', 'orange', 'grape', 'grape', 'cherry', 'peach', 'apple', 'plum', 'watermelon', 'peach', 'cherry', 'lime', 'watermelon', 'peach', 'grape', 'plum', 'strawberry', 'lime', 'watermelon', 'peach', 'cherry', 'banana', 'peach', 'apple', 'grape', 'watermelon', 'grape', 'grape', 'banana', 'watermelon', 'watermelon', 'orange', 'lime', 'cherry', 'plum', 'apple', 'grape', 'strawberry', 'grape', 'plum', 'strawberry', 'orange', 'watermelon', 'apple', 'banana', 'plum', 'grape', 'peach', 'plum', 'strawberry', 'lime', 'plum', 'lime', 'strawberry', 'lime', 'peach', 'apple', 'plum', 'peach', 'orange', 'watermelon', 'grape', 'orange', 'banana', 'orange', 'lime', 'apple', 'strawberry', 'peach', 'strawberry', 'orange', 'grape', 'plum', 'watermelon', 'plum', 'cherry', 'peach', 'cherry', 'cherry', 'banana', 'plum', 'orange', 'orange', 'peach', 'banana', 'lime', 'peach', 'peach', 'apple', 'strawberry', 'plum', 'peach', 'plum', 'banana', 'watermelon', 'cherry', 'grape', 'peach', 'grape', 'strawberry', 'lime', 'plum', 'watermelon', 'banana', 'cherry', 'plum', 'watermelon', 'cherry', 'apple', 'watermelon', 'grape', 'banana', 'grape', 'cherry', 'plum', 'cherry', 'orange', 'strawberry', 'watermelon', 'lime', 'watermelon', 'strawberry', 'watermelon', 'plum', 'lime', 'peach', 'strawberry', 'strawberry', 'strawberry', 'lime', 'banana', 'plum', 'grape', 'cherry', 'orange', 'cherry', 'plum', 'orange', 'orange', 'cherry', 'grape', 'banana', 'lime', 'orange', 'strawberry', 'apple', 'apple', 'watermelon', 'apple', 'cherry', 'apple', 'lime', 'peach', 'watermelon', 'lime', 'banana', 'plum', 'orange', 'watermelon', 'strawberry', 'orange', 'cherry', 'grape', 'cherry', 'lime', 'lime', 'grape', 'strawberry', 'cherry', 'cherry', 'plum', 'lime', 'peach', 'watermelon', 'grape', 'cherry', 'lime', 'plum', 'banana', 'lime', 'watermelon', 'orange', 'cherry', 'orange', 'apple', 'apple', 'apple', 'lime', 'banana', 'grape', 'watermelon', 'plum', 'cherry', 'grape', 'strawberry', 'strawberry', 'apple', 'apple', 'grape', 'strawberry', 'peach', 'apple', 'watermelon', 'grape', 'plum', 'strawberry', 'orange', 'lime', 'plum', 'apple', 'apple', 'peach', 'apple', 'peach', 'strawberry', 'apple', 'plum', 'orange', 'grape', 'orange', 'cherry', 'apple', 'lime', 'strawberry', 'plum', 'cherry', 'lime', 'grape', 'banana', 'plum', 'plum', 'cherry', 'cherry', 'apple', 'watermelon', 'watermelon', 'strawberry', 'banana', 'grape', 'watermelon', 'peach', 'peach', 'apple', 'banana', 'peach', 'grape', 'peach', 'cherry', 'peach', 'grape', 'orange', 'plum', 'watermelon', 'orange', 'plum', 'strawberry', 'orange', 'strawberry', 'apple', 'cherry', 'grape', 'apple', 'apple', 'orange', 'peach', 'lime', 'peach', 'banana', 'orange', 'banana', 'apple', 'strawberry', 'peach', 'apple', 'lime', 'strawberry', 'grape', 'lime', 'apple', 'peach', 'plum', 'orange', 'plum', 'banana', 'orange', 'plum', 'apple', 'grape', 'apple', 'plum', 'banana', 'strawberry', 'plum', 'grape', 'orange', 'plum', 'orange', 'grape', 'cherry', 'peach', 'peach', 'cherry', 'banana', 'banana', 'peach', 'grape', 'watermelon', 'lime', 'orange', 'strawberry', 'lime', 'peach', 'peach', 'watermelon', 'peach', 'peach', 'apple', 'plum', 'strawberry', 'cherry', 'banana', 'grape', 'peach', 'banana', 'orange', 'grape', 'banana', 'strawberry', 'watermelon', 'orange', 'apple', 'plum', 'peach', 'banana', 'grape', 'plum', 'banana', 'banana', 'plum', 'banana', 'peach', 'peach', 'apple', 'peach', 'orange', 'strawberry', 'banana', 'banana', 'banana', 'watermelon', 'orange', 'lime', 'plum', 'lime', 'lime', 'banana', 'grape', 'orange', 'watermelon', 'apple', 'strawberry', 'apple', 'peach', 'lime']\n"
     ]
    }
   ],
   "metadata": {}
  },
  {
   "cell_type": "markdown",
   "source": [
    "### (2)`fruits`にある果物の種類を表示するlist型の変数`fruits_list`の作成及び、果物の数を表示せよ。(3点)"
   ],
   "metadata": {}
  },
  {
   "cell_type": "code",
   "execution_count": 199,
   "source": [
    "#fruits_listの作成(2点)\n",
    "fruits_data = set(fruits)\n",
    "fruits_list = [x for x in fruits_data]\n",
    "\n",
    "#果物の数を表示(1点)\n",
    "print(len(fruits))"
   ],
   "outputs": [
    {
     "output_type": "stream",
     "name": "stdout",
     "text": [
      "1000\n"
     ]
    }
   ],
   "metadata": {}
  },
  {
   "cell_type": "markdown",
   "source": [
    "### (3)`fruits`に果物がそれぞれ何個ずつあるのかを表示するdict型の変数`fruits_num`を作成せよ(3点)\n",
    "> fruits_num = {'peach': 10, 'melon'30, ....}"
   ],
   "metadata": {}
  },
  {
   "cell_type": "code",
   "execution_count": 200,
   "source": [
    "# fruits_numの作成(3点)\n",
    "#print(fruits_data)\n",
    "\n",
    "count_cherry = fruits.count('cherry')\n",
    "count_watermelon = fruits.count('watermelon')\n",
    "count_orange = fruits.count('orange')\n",
    "count_apple = fruits.count('apple')\n",
    "count_grape = fruits.count('grape')\n",
    "count_banana = fruits.count('banana')\n",
    "count_plum = fruits.count('plum')\n",
    "count_strawberry = fruits.count('strawberry')\n",
    "count_peach = fruits.count('peach')\n",
    "count_lime = fruits.count('lime')\n",
    "\n",
    "#print(count_cherry, count_watermelon, count_orange, count_apple, count_grape, count_banana, count_plum, count_strawberry, count_peach, count_lime)\n",
    "\n",
    "fruits_num = {'cherry':count_cherry, 'watermelon':count_watermelon, 'orange':count_orange, 'apple':count_apple, 'grape':count_grape, 'banana':count_banana, 'plum':count_plum, 'strawberry':count_strawberry, 'peach':count_peach, 'lime':count_lime}\n",
    "print(fruits_num)"
   ],
   "outputs": [
    {
     "output_type": "stream",
     "name": "stdout",
     "text": [
      "{'cherry': 96, 'watermelon': 98, 'orange': 101, 'apple': 98, 'grape': 102, 'banana': 92, 'plum': 112, 'strawberry': 93, 'peach': 119, 'lime': 89}\n"
     ]
    }
   ],
   "metadata": {}
  },
  {
   "cell_type": "markdown",
   "source": [
    "### (4)matplotlibを用いてfruits_numを以下の指示に従って可視化せよ。(3点)\n",
    "1. 棒グラフで表示する。\n",
    "1. 縦軸は果物の個数,横軸は果物名をラベルとする。\n",
    "1. ラベルが重ならないように工夫すること。\n",
    "1. グラフのタイトル、縦軸、横軸のキャプションをつけること。"
   ],
   "metadata": {}
  },
  {
   "cell_type": "code",
   "execution_count": 201,
   "source": [
    "#グラフの表示(3点)\n",
    "import matplotlib.pyplot as plt\n",
    "%matplotlib inline \n",
    "\n",
    "myList = fruits_num.items()\n",
    "myList = sorted(myList)\n",
    "x, y = zip(*myList)\n",
    "\n",
    "plt.xticks(rotation=90)\n",
    "plt.tight_layout()\n",
    "plt.bar(x, y)\n",
    "\n",
    "plt.xlabel('name')\n",
    "plt.ylabel('number')\n",
    "plt.title('fruits Graphs')\n"
   ],
   "outputs": [
    {
     "output_type": "execute_result",
     "data": {
      "text/plain": [
       "Text(0.5, 1.0, 'fruits Graphs')"
      ]
     },
     "metadata": {},
     "execution_count": 201
    },
    {
     "output_type": "display_data",
     "data": {
      "text/plain": [
       "<Figure size 432x288 with 1 Axes>"
      ],
      "image/svg+xml": "<?xml version=\"1.0\" encoding=\"utf-8\" standalone=\"no\"?>\n<!DOCTYPE svg PUBLIC \"-//W3C//DTD SVG 1.1//EN\"\n  \"http://www.w3.org/Graphics/SVG/1.1/DTD/svg11.dtd\">\n<svg height=\"349.165pt\" version=\"1.1\" viewBox=\"0 0 436.690625 349.165\" width=\"436.690625pt\" xmlns=\"http://www.w3.org/2000/svg\" xmlns:xlink=\"http://www.w3.org/1999/xlink\">\n <metadata>\n  <rdf:RDF xmlns:cc=\"http://creativecommons.org/ns#\" xmlns:dc=\"http://purl.org/dc/elements/1.1/\" xmlns:rdf=\"http://www.w3.org/1999/02/22-rdf-syntax-ns#\">\n   <cc:Work>\n    <dc:type rdf:resource=\"http://purl.org/dc/dcmitype/StillImage\"/>\n    <dc:date>2021-08-13T21:46:29.376731</dc:date>\n    <dc:format>image/svg+xml</dc:format>\n    <dc:creator>\n     <cc:Agent>\n      <dc:title>Matplotlib v3.4.2, https://matplotlib.org/</dc:title>\n     </cc:Agent>\n    </dc:creator>\n   </cc:Work>\n  </rdf:RDF>\n </metadata>\n <defs>\n  <style type=\"text/css\">*{stroke-linecap:butt;stroke-linejoin:round;}</style>\n </defs>\n <g id=\"figure_1\">\n  <g id=\"patch_1\">\n   <path d=\"M 0 349.165 \nL 436.690625 349.165 \nL 436.690625 0 \nL 0 0 \nz\n\" style=\"fill:none;\"/>\n  </g>\n  <g id=\"axes_1\">\n   <g id=\"patch_2\">\n    <path d=\"M 46.965625 261.843125 \nL 429.490625 261.843125 \nL 429.490625 22.318125 \nL 46.965625 22.318125 \nz\n\" style=\"fill:#ffffff;\"/>\n   </g>\n   <g id=\"patch_3\">\n    <path clip-path=\"url(#p8b96ff59cf)\" d=\"M 64.353125 261.843125 \nL 92.74088 261.843125 \nL 92.74088 73.98038 \nL 64.353125 73.98038 \nz\n\" style=\"fill:#1f77b4;\"/>\n   </g>\n   <g id=\"patch_4\">\n    <path clip-path=\"url(#p8b96ff59cf)\" d=\"M 99.837819 261.843125 \nL 128.225574 261.843125 \nL 128.225574 85.482181 \nL 99.837819 85.482181 \nz\n\" style=\"fill:#1f77b4;\"/>\n   </g>\n   <g id=\"patch_5\">\n    <path clip-path=\"url(#p8b96ff59cf)\" d=\"M 135.322513 261.843125 \nL 163.710268 261.843125 \nL 163.710268 77.814313 \nL 135.322513 77.814313 \nz\n\" style=\"fill:#1f77b4;\"/>\n   </g>\n   <g id=\"patch_6\">\n    <path clip-path=\"url(#p8b96ff59cf)\" d=\"M 170.807207 261.843125 \nL 199.194962 261.843125 \nL 199.194962 66.312513 \nL 170.807207 66.312513 \nz\n\" style=\"fill:#1f77b4;\"/>\n   </g>\n   <g id=\"patch_7\">\n    <path clip-path=\"url(#p8b96ff59cf)\" d=\"M 206.291901 261.843125 \nL 234.679656 261.843125 \nL 234.679656 91.233081 \nL 206.291901 91.233081 \nz\n\" style=\"fill:#1f77b4;\"/>\n   </g>\n   <g id=\"patch_8\">\n    <path clip-path=\"url(#p8b96ff59cf)\" d=\"M 241.776594 261.843125 \nL 270.164349 261.843125 \nL 270.164349 68.22948 \nL 241.776594 68.22948 \nz\n\" style=\"fill:#1f77b4;\"/>\n   </g>\n   <g id=\"patch_9\">\n    <path clip-path=\"url(#p8b96ff59cf)\" d=\"M 277.261288 261.843125 \nL 305.649043 261.843125 \nL 305.649043 33.724077 \nL 277.261288 33.724077 \nz\n\" style=\"fill:#1f77b4;\"/>\n   </g>\n   <g id=\"patch_10\">\n    <path clip-path=\"url(#p8b96ff59cf)\" d=\"M 312.745982 261.843125 \nL 341.133737 261.843125 \nL 341.133737 47.142845 \nL 312.745982 47.142845 \nz\n\" style=\"fill:#1f77b4;\"/>\n   </g>\n   <g id=\"patch_11\">\n    <path clip-path=\"url(#p8b96ff59cf)\" d=\"M 348.230676 261.843125 \nL 376.618431 261.843125 \nL 376.618431 83.565214 \nL 348.230676 83.565214 \nz\n\" style=\"fill:#1f77b4;\"/>\n   </g>\n   <g id=\"patch_12\">\n    <path clip-path=\"url(#p8b96ff59cf)\" d=\"M 383.71537 261.843125 \nL 412.103125 261.843125 \nL 412.103125 73.98038 \nL 383.71537 73.98038 \nz\n\" style=\"fill:#1f77b4;\"/>\n   </g>\n   <g id=\"matplotlib.axis_1\">\n    <g id=\"xtick_1\">\n     <g id=\"line2d_1\">\n      <defs>\n       <path d=\"M 0 0 \nL 0 3.5 \n\" id=\"m326b6fbb3d\" style=\"stroke:#000000;stroke-width:0.8;\"/>\n      </defs>\n      <g>\n       <use style=\"stroke:#000000;stroke-width:0.8;\" x=\"78.547003\" xlink:href=\"#m326b6fbb3d\" y=\"261.843125\"/>\n      </g>\n     </g>\n     <g id=\"text_1\">\n      <!-- apple -->\n      <g transform=\"translate(81.306378 296.599375)rotate(-90)scale(0.1 -0.1)\">\n       <defs>\n        <path d=\"M 2194 1759 \nQ 1497 1759 1228 1600 \nQ 959 1441 959 1056 \nQ 959 750 1161 570 \nQ 1363 391 1709 391 \nQ 2188 391 2477 730 \nQ 2766 1069 2766 1631 \nL 2766 1759 \nL 2194 1759 \nz\nM 3341 1997 \nL 3341 0 \nL 2766 0 \nL 2766 531 \nQ 2569 213 2275 61 \nQ 1981 -91 1556 -91 \nQ 1019 -91 701 211 \nQ 384 513 384 1019 \nQ 384 1609 779 1909 \nQ 1175 2209 1959 2209 \nL 2766 2209 \nL 2766 2266 \nQ 2766 2663 2505 2880 \nQ 2244 3097 1772 3097 \nQ 1472 3097 1187 3025 \nQ 903 2953 641 2809 \nL 641 3341 \nQ 956 3463 1253 3523 \nQ 1550 3584 1831 3584 \nQ 2591 3584 2966 3190 \nQ 3341 2797 3341 1997 \nz\n\" id=\"DejaVuSans-61\" transform=\"scale(0.015625)\"/>\n        <path d=\"M 1159 525 \nL 1159 -1331 \nL 581 -1331 \nL 581 3500 \nL 1159 3500 \nL 1159 2969 \nQ 1341 3281 1617 3432 \nQ 1894 3584 2278 3584 \nQ 2916 3584 3314 3078 \nQ 3713 2572 3713 1747 \nQ 3713 922 3314 415 \nQ 2916 -91 2278 -91 \nQ 1894 -91 1617 61 \nQ 1341 213 1159 525 \nz\nM 3116 1747 \nQ 3116 2381 2855 2742 \nQ 2594 3103 2138 3103 \nQ 1681 3103 1420 2742 \nQ 1159 2381 1159 1747 \nQ 1159 1113 1420 752 \nQ 1681 391 2138 391 \nQ 2594 391 2855 752 \nQ 3116 1113 3116 1747 \nz\n\" id=\"DejaVuSans-70\" transform=\"scale(0.015625)\"/>\n        <path d=\"M 603 4863 \nL 1178 4863 \nL 1178 0 \nL 603 0 \nL 603 4863 \nz\n\" id=\"DejaVuSans-6c\" transform=\"scale(0.015625)\"/>\n        <path d=\"M 3597 1894 \nL 3597 1613 \nL 953 1613 \nQ 991 1019 1311 708 \nQ 1631 397 2203 397 \nQ 2534 397 2845 478 \nQ 3156 559 3463 722 \nL 3463 178 \nQ 3153 47 2828 -22 \nQ 2503 -91 2169 -91 \nQ 1331 -91 842 396 \nQ 353 884 353 1716 \nQ 353 2575 817 3079 \nQ 1281 3584 2069 3584 \nQ 2775 3584 3186 3129 \nQ 3597 2675 3597 1894 \nz\nM 3022 2063 \nQ 3016 2534 2758 2815 \nQ 2500 3097 2075 3097 \nQ 1594 3097 1305 2825 \nQ 1016 2553 972 2059 \nL 3022 2063 \nz\n\" id=\"DejaVuSans-65\" transform=\"scale(0.015625)\"/>\n       </defs>\n       <use xlink:href=\"#DejaVuSans-61\"/>\n       <use x=\"61.279297\" xlink:href=\"#DejaVuSans-70\"/>\n       <use x=\"124.755859\" xlink:href=\"#DejaVuSans-70\"/>\n       <use x=\"188.232422\" xlink:href=\"#DejaVuSans-6c\"/>\n       <use x=\"216.015625\" xlink:href=\"#DejaVuSans-65\"/>\n      </g>\n     </g>\n    </g>\n    <g id=\"xtick_2\">\n     <g id=\"line2d_2\">\n      <g>\n       <use style=\"stroke:#000000;stroke-width:0.8;\" x=\"114.031696\" xlink:href=\"#m326b6fbb3d\" y=\"261.843125\"/>\n      </g>\n     </g>\n     <g id=\"text_2\">\n      <!-- banana -->\n      <g transform=\"translate(116.791071 306.250938)rotate(-90)scale(0.1 -0.1)\">\n       <defs>\n        <path d=\"M 3116 1747 \nQ 3116 2381 2855 2742 \nQ 2594 3103 2138 3103 \nQ 1681 3103 1420 2742 \nQ 1159 2381 1159 1747 \nQ 1159 1113 1420 752 \nQ 1681 391 2138 391 \nQ 2594 391 2855 752 \nQ 3116 1113 3116 1747 \nz\nM 1159 2969 \nQ 1341 3281 1617 3432 \nQ 1894 3584 2278 3584 \nQ 2916 3584 3314 3078 \nQ 3713 2572 3713 1747 \nQ 3713 922 3314 415 \nQ 2916 -91 2278 -91 \nQ 1894 -91 1617 61 \nQ 1341 213 1159 525 \nL 1159 0 \nL 581 0 \nL 581 4863 \nL 1159 4863 \nL 1159 2969 \nz\n\" id=\"DejaVuSans-62\" transform=\"scale(0.015625)\"/>\n        <path d=\"M 3513 2113 \nL 3513 0 \nL 2938 0 \nL 2938 2094 \nQ 2938 2591 2744 2837 \nQ 2550 3084 2163 3084 \nQ 1697 3084 1428 2787 \nQ 1159 2491 1159 1978 \nL 1159 0 \nL 581 0 \nL 581 3500 \nL 1159 3500 \nL 1159 2956 \nQ 1366 3272 1645 3428 \nQ 1925 3584 2291 3584 \nQ 2894 3584 3203 3211 \nQ 3513 2838 3513 2113 \nz\n\" id=\"DejaVuSans-6e\" transform=\"scale(0.015625)\"/>\n       </defs>\n       <use xlink:href=\"#DejaVuSans-62\"/>\n       <use x=\"63.476562\" xlink:href=\"#DejaVuSans-61\"/>\n       <use x=\"124.755859\" xlink:href=\"#DejaVuSans-6e\"/>\n       <use x=\"188.134766\" xlink:href=\"#DejaVuSans-61\"/>\n       <use x=\"249.414062\" xlink:href=\"#DejaVuSans-6e\"/>\n       <use x=\"312.792969\" xlink:href=\"#DejaVuSans-61\"/>\n      </g>\n     </g>\n    </g>\n    <g id=\"xtick_3\">\n     <g id=\"line2d_3\">\n      <g>\n       <use style=\"stroke:#000000;stroke-width:0.8;\" x=\"149.51639\" xlink:href=\"#m326b6fbb3d\" y=\"261.843125\"/>\n      </g>\n     </g>\n     <g id=\"text_3\">\n      <!-- cherry -->\n      <g transform=\"translate(152.275765 300.797813)rotate(-90)scale(0.1 -0.1)\">\n       <defs>\n        <path d=\"M 3122 3366 \nL 3122 2828 \nQ 2878 2963 2633 3030 \nQ 2388 3097 2138 3097 \nQ 1578 3097 1268 2742 \nQ 959 2388 959 1747 \nQ 959 1106 1268 751 \nQ 1578 397 2138 397 \nQ 2388 397 2633 464 \nQ 2878 531 3122 666 \nL 3122 134 \nQ 2881 22 2623 -34 \nQ 2366 -91 2075 -91 \nQ 1284 -91 818 406 \nQ 353 903 353 1747 \nQ 353 2603 823 3093 \nQ 1294 3584 2113 3584 \nQ 2378 3584 2631 3529 \nQ 2884 3475 3122 3366 \nz\n\" id=\"DejaVuSans-63\" transform=\"scale(0.015625)\"/>\n        <path d=\"M 3513 2113 \nL 3513 0 \nL 2938 0 \nL 2938 2094 \nQ 2938 2591 2744 2837 \nQ 2550 3084 2163 3084 \nQ 1697 3084 1428 2787 \nQ 1159 2491 1159 1978 \nL 1159 0 \nL 581 0 \nL 581 4863 \nL 1159 4863 \nL 1159 2956 \nQ 1366 3272 1645 3428 \nQ 1925 3584 2291 3584 \nQ 2894 3584 3203 3211 \nQ 3513 2838 3513 2113 \nz\n\" id=\"DejaVuSans-68\" transform=\"scale(0.015625)\"/>\n        <path d=\"M 2631 2963 \nQ 2534 3019 2420 3045 \nQ 2306 3072 2169 3072 \nQ 1681 3072 1420 2755 \nQ 1159 2438 1159 1844 \nL 1159 0 \nL 581 0 \nL 581 3500 \nL 1159 3500 \nL 1159 2956 \nQ 1341 3275 1631 3429 \nQ 1922 3584 2338 3584 \nQ 2397 3584 2469 3576 \nQ 2541 3569 2628 3553 \nL 2631 2963 \nz\n\" id=\"DejaVuSans-72\" transform=\"scale(0.015625)\"/>\n        <path d=\"M 2059 -325 \nQ 1816 -950 1584 -1140 \nQ 1353 -1331 966 -1331 \nL 506 -1331 \nL 506 -850 \nL 844 -850 \nQ 1081 -850 1212 -737 \nQ 1344 -625 1503 -206 \nL 1606 56 \nL 191 3500 \nL 800 3500 \nL 1894 763 \nL 2988 3500 \nL 3597 3500 \nL 2059 -325 \nz\n\" id=\"DejaVuSans-79\" transform=\"scale(0.015625)\"/>\n       </defs>\n       <use xlink:href=\"#DejaVuSans-63\"/>\n       <use x=\"54.980469\" xlink:href=\"#DejaVuSans-68\"/>\n       <use x=\"118.359375\" xlink:href=\"#DejaVuSans-65\"/>\n       <use x=\"179.882812\" xlink:href=\"#DejaVuSans-72\"/>\n       <use x=\"219.246094\" xlink:href=\"#DejaVuSans-72\"/>\n       <use x=\"260.359375\" xlink:href=\"#DejaVuSans-79\"/>\n      </g>\n     </g>\n    </g>\n    <g id=\"xtick_4\">\n     <g id=\"line2d_4\">\n      <g>\n       <use style=\"stroke:#000000;stroke-width:0.8;\" x=\"185.001084\" xlink:href=\"#m326b6fbb3d\" y=\"261.843125\"/>\n      </g>\n     </g>\n     <g id=\"text_4\">\n      <!-- grape -->\n      <g transform=\"translate(187.760459 297.932188)rotate(-90)scale(0.1 -0.1)\">\n       <defs>\n        <path d=\"M 2906 1791 \nQ 2906 2416 2648 2759 \nQ 2391 3103 1925 3103 \nQ 1463 3103 1205 2759 \nQ 947 2416 947 1791 \nQ 947 1169 1205 825 \nQ 1463 481 1925 481 \nQ 2391 481 2648 825 \nQ 2906 1169 2906 1791 \nz\nM 3481 434 \nQ 3481 -459 3084 -895 \nQ 2688 -1331 1869 -1331 \nQ 1566 -1331 1297 -1286 \nQ 1028 -1241 775 -1147 \nL 775 -588 \nQ 1028 -725 1275 -790 \nQ 1522 -856 1778 -856 \nQ 2344 -856 2625 -561 \nQ 2906 -266 2906 331 \nL 2906 616 \nQ 2728 306 2450 153 \nQ 2172 0 1784 0 \nQ 1141 0 747 490 \nQ 353 981 353 1791 \nQ 353 2603 747 3093 \nQ 1141 3584 1784 3584 \nQ 2172 3584 2450 3431 \nQ 2728 3278 2906 2969 \nL 2906 3500 \nL 3481 3500 \nL 3481 434 \nz\n\" id=\"DejaVuSans-67\" transform=\"scale(0.015625)\"/>\n       </defs>\n       <use xlink:href=\"#DejaVuSans-67\"/>\n       <use x=\"63.476562\" xlink:href=\"#DejaVuSans-72\"/>\n       <use x=\"104.589844\" xlink:href=\"#DejaVuSans-61\"/>\n       <use x=\"165.869141\" xlink:href=\"#DejaVuSans-70\"/>\n       <use x=\"229.345703\" xlink:href=\"#DejaVuSans-65\"/>\n      </g>\n     </g>\n    </g>\n    <g id=\"xtick_5\">\n     <g id=\"line2d_5\">\n      <g>\n       <use style=\"stroke:#000000;stroke-width:0.8;\" x=\"220.485778\" xlink:href=\"#m326b6fbb3d\" y=\"261.843125\"/>\n      </g>\n     </g>\n     <g id=\"text_5\">\n      <!-- lime -->\n      <g transform=\"translate(223.245153 290.293125)rotate(-90)scale(0.1 -0.1)\">\n       <defs>\n        <path d=\"M 603 3500 \nL 1178 3500 \nL 1178 0 \nL 603 0 \nL 603 3500 \nz\nM 603 4863 \nL 1178 4863 \nL 1178 4134 \nL 603 4134 \nL 603 4863 \nz\n\" id=\"DejaVuSans-69\" transform=\"scale(0.015625)\"/>\n        <path d=\"M 3328 2828 \nQ 3544 3216 3844 3400 \nQ 4144 3584 4550 3584 \nQ 5097 3584 5394 3201 \nQ 5691 2819 5691 2113 \nL 5691 0 \nL 5113 0 \nL 5113 2094 \nQ 5113 2597 4934 2840 \nQ 4756 3084 4391 3084 \nQ 3944 3084 3684 2787 \nQ 3425 2491 3425 1978 \nL 3425 0 \nL 2847 0 \nL 2847 2094 \nQ 2847 2600 2669 2842 \nQ 2491 3084 2119 3084 \nQ 1678 3084 1418 2786 \nQ 1159 2488 1159 1978 \nL 1159 0 \nL 581 0 \nL 581 3500 \nL 1159 3500 \nL 1159 2956 \nQ 1356 3278 1631 3431 \nQ 1906 3584 2284 3584 \nQ 2666 3584 2933 3390 \nQ 3200 3197 3328 2828 \nz\n\" id=\"DejaVuSans-6d\" transform=\"scale(0.015625)\"/>\n       </defs>\n       <use xlink:href=\"#DejaVuSans-6c\"/>\n       <use x=\"27.783203\" xlink:href=\"#DejaVuSans-69\"/>\n       <use x=\"55.566406\" xlink:href=\"#DejaVuSans-6d\"/>\n       <use x=\"152.978516\" xlink:href=\"#DejaVuSans-65\"/>\n      </g>\n     </g>\n    </g>\n    <g id=\"xtick_6\">\n     <g id=\"line2d_6\">\n      <g>\n       <use style=\"stroke:#000000;stroke-width:0.8;\" x=\"255.970472\" xlink:href=\"#m326b6fbb3d\" y=\"261.843125\"/>\n      </g>\n     </g>\n     <g id=\"text_6\">\n      <!-- orange -->\n      <g transform=\"translate(258.729847 304.04)rotate(-90)scale(0.1 -0.1)\">\n       <defs>\n        <path d=\"M 1959 3097 \nQ 1497 3097 1228 2736 \nQ 959 2375 959 1747 \nQ 959 1119 1226 758 \nQ 1494 397 1959 397 \nQ 2419 397 2687 759 \nQ 2956 1122 2956 1747 \nQ 2956 2369 2687 2733 \nQ 2419 3097 1959 3097 \nz\nM 1959 3584 \nQ 2709 3584 3137 3096 \nQ 3566 2609 3566 1747 \nQ 3566 888 3137 398 \nQ 2709 -91 1959 -91 \nQ 1206 -91 779 398 \nQ 353 888 353 1747 \nQ 353 2609 779 3096 \nQ 1206 3584 1959 3584 \nz\n\" id=\"DejaVuSans-6f\" transform=\"scale(0.015625)\"/>\n       </defs>\n       <use xlink:href=\"#DejaVuSans-6f\"/>\n       <use x=\"61.181641\" xlink:href=\"#DejaVuSans-72\"/>\n       <use x=\"102.294922\" xlink:href=\"#DejaVuSans-61\"/>\n       <use x=\"163.574219\" xlink:href=\"#DejaVuSans-6e\"/>\n       <use x=\"226.953125\" xlink:href=\"#DejaVuSans-67\"/>\n       <use x=\"290.429688\" xlink:href=\"#DejaVuSans-65\"/>\n      </g>\n     </g>\n    </g>\n    <g id=\"xtick_7\">\n     <g id=\"line2d_7\">\n      <g>\n       <use style=\"stroke:#000000;stroke-width:0.8;\" x=\"291.455166\" xlink:href=\"#m326b6fbb3d\" y=\"261.843125\"/>\n      </g>\n     </g>\n     <g id=\"text_7\">\n      <!-- peach -->\n      <g transform=\"translate(294.214541 299.30875)rotate(-90)scale(0.1 -0.1)\">\n       <use xlink:href=\"#DejaVuSans-70\"/>\n       <use x=\"63.476562\" xlink:href=\"#DejaVuSans-65\"/>\n       <use x=\"125\" xlink:href=\"#DejaVuSans-61\"/>\n       <use x=\"186.279297\" xlink:href=\"#DejaVuSans-63\"/>\n       <use x=\"241.259766\" xlink:href=\"#DejaVuSans-68\"/>\n      </g>\n     </g>\n    </g>\n    <g id=\"xtick_8\">\n     <g id=\"line2d_8\">\n      <g>\n       <use style=\"stroke:#000000;stroke-width:0.8;\" x=\"326.93986\" xlink:href=\"#m326b6fbb3d\" y=\"261.843125\"/>\n      </g>\n     </g>\n     <g id=\"text_8\">\n      <!-- plum -->\n      <g transform=\"translate(329.699235 294.047813)rotate(-90)scale(0.1 -0.1)\">\n       <defs>\n        <path d=\"M 544 1381 \nL 544 3500 \nL 1119 3500 \nL 1119 1403 \nQ 1119 906 1312 657 \nQ 1506 409 1894 409 \nQ 2359 409 2629 706 \nQ 2900 1003 2900 1516 \nL 2900 3500 \nL 3475 3500 \nL 3475 0 \nL 2900 0 \nL 2900 538 \nQ 2691 219 2414 64 \nQ 2138 -91 1772 -91 \nQ 1169 -91 856 284 \nQ 544 659 544 1381 \nz\nM 1991 3584 \nL 1991 3584 \nz\n\" id=\"DejaVuSans-75\" transform=\"scale(0.015625)\"/>\n       </defs>\n       <use xlink:href=\"#DejaVuSans-70\"/>\n       <use x=\"63.476562\" xlink:href=\"#DejaVuSans-6c\"/>\n       <use x=\"91.259766\" xlink:href=\"#DejaVuSans-75\"/>\n       <use x=\"154.638672\" xlink:href=\"#DejaVuSans-6d\"/>\n      </g>\n     </g>\n    </g>\n    <g id=\"xtick_9\">\n     <g id=\"line2d_9\">\n      <g>\n       <use style=\"stroke:#000000;stroke-width:0.8;\" x=\"362.424554\" xlink:href=\"#m326b6fbb3d\" y=\"261.843125\"/>\n      </g>\n     </g>\n     <g id=\"text_9\">\n      <!-- strawberry -->\n      <g transform=\"translate(365.183929 322.857188)rotate(-90)scale(0.1 -0.1)\">\n       <defs>\n        <path d=\"M 2834 3397 \nL 2834 2853 \nQ 2591 2978 2328 3040 \nQ 2066 3103 1784 3103 \nQ 1356 3103 1142 2972 \nQ 928 2841 928 2578 \nQ 928 2378 1081 2264 \nQ 1234 2150 1697 2047 \nL 1894 2003 \nQ 2506 1872 2764 1633 \nQ 3022 1394 3022 966 \nQ 3022 478 2636 193 \nQ 2250 -91 1575 -91 \nQ 1294 -91 989 -36 \nQ 684 19 347 128 \nL 347 722 \nQ 666 556 975 473 \nQ 1284 391 1588 391 \nQ 1994 391 2212 530 \nQ 2431 669 2431 922 \nQ 2431 1156 2273 1281 \nQ 2116 1406 1581 1522 \nL 1381 1569 \nQ 847 1681 609 1914 \nQ 372 2147 372 2553 \nQ 372 3047 722 3315 \nQ 1072 3584 1716 3584 \nQ 2034 3584 2315 3537 \nQ 2597 3491 2834 3397 \nz\n\" id=\"DejaVuSans-73\" transform=\"scale(0.015625)\"/>\n        <path d=\"M 1172 4494 \nL 1172 3500 \nL 2356 3500 \nL 2356 3053 \nL 1172 3053 \nL 1172 1153 \nQ 1172 725 1289 603 \nQ 1406 481 1766 481 \nL 2356 481 \nL 2356 0 \nL 1766 0 \nQ 1100 0 847 248 \nQ 594 497 594 1153 \nL 594 3053 \nL 172 3053 \nL 172 3500 \nL 594 3500 \nL 594 4494 \nL 1172 4494 \nz\n\" id=\"DejaVuSans-74\" transform=\"scale(0.015625)\"/>\n        <path d=\"M 269 3500 \nL 844 3500 \nL 1563 769 \nL 2278 3500 \nL 2956 3500 \nL 3675 769 \nL 4391 3500 \nL 4966 3500 \nL 4050 0 \nL 3372 0 \nL 2619 2869 \nL 1863 0 \nL 1184 0 \nL 269 3500 \nz\n\" id=\"DejaVuSans-77\" transform=\"scale(0.015625)\"/>\n       </defs>\n       <use xlink:href=\"#DejaVuSans-73\"/>\n       <use x=\"52.099609\" xlink:href=\"#DejaVuSans-74\"/>\n       <use x=\"91.308594\" xlink:href=\"#DejaVuSans-72\"/>\n       <use x=\"132.421875\" xlink:href=\"#DejaVuSans-61\"/>\n       <use x=\"193.701172\" xlink:href=\"#DejaVuSans-77\"/>\n       <use x=\"275.488281\" xlink:href=\"#DejaVuSans-62\"/>\n       <use x=\"338.964844\" xlink:href=\"#DejaVuSans-65\"/>\n       <use x=\"400.488281\" xlink:href=\"#DejaVuSans-72\"/>\n       <use x=\"439.851562\" xlink:href=\"#DejaVuSans-72\"/>\n       <use x=\"480.964844\" xlink:href=\"#DejaVuSans-79\"/>\n      </g>\n     </g>\n    </g>\n    <g id=\"xtick_10\">\n     <g id=\"line2d_10\">\n      <g>\n       <use style=\"stroke:#000000;stroke-width:0.8;\" x=\"397.909247\" xlink:href=\"#m326b6fbb3d\" y=\"261.843125\"/>\n      </g>\n     </g>\n     <g id=\"text_10\">\n      <!-- watermelon -->\n      <g transform=\"translate(400.668622 328.286875)rotate(-90)scale(0.1 -0.1)\">\n       <use xlink:href=\"#DejaVuSans-77\"/>\n       <use x=\"81.787109\" xlink:href=\"#DejaVuSans-61\"/>\n       <use x=\"143.066406\" xlink:href=\"#DejaVuSans-74\"/>\n       <use x=\"182.275391\" xlink:href=\"#DejaVuSans-65\"/>\n       <use x=\"243.798828\" xlink:href=\"#DejaVuSans-72\"/>\n       <use x=\"283.162109\" xlink:href=\"#DejaVuSans-6d\"/>\n       <use x=\"380.574219\" xlink:href=\"#DejaVuSans-65\"/>\n       <use x=\"442.097656\" xlink:href=\"#DejaVuSans-6c\"/>\n       <use x=\"469.880859\" xlink:href=\"#DejaVuSans-6f\"/>\n       <use x=\"531.0625\" xlink:href=\"#DejaVuSans-6e\"/>\n      </g>\n     </g>\n    </g>\n    <g id=\"text_11\">\n     <!-- name -->\n     <g transform=\"translate(224.048437 339.885313)scale(0.1 -0.1)\">\n      <use xlink:href=\"#DejaVuSans-6e\"/>\n      <use x=\"63.378906\" xlink:href=\"#DejaVuSans-61\"/>\n      <use x=\"124.658203\" xlink:href=\"#DejaVuSans-6d\"/>\n      <use x=\"222.070312\" xlink:href=\"#DejaVuSans-65\"/>\n     </g>\n    </g>\n   </g>\n   <g id=\"matplotlib.axis_2\">\n    <g id=\"ytick_1\">\n     <g id=\"line2d_11\">\n      <defs>\n       <path d=\"M 0 0 \nL -3.5 0 \n\" id=\"m30dec68306\" style=\"stroke:#000000;stroke-width:0.8;\"/>\n      </defs>\n      <g>\n       <use style=\"stroke:#000000;stroke-width:0.8;\" x=\"46.965625\" xlink:href=\"#m30dec68306\" y=\"261.843125\"/>\n      </g>\n     </g>\n     <g id=\"text_12\">\n      <!-- 0 -->\n      <g transform=\"translate(33.603125 265.642344)scale(0.1 -0.1)\">\n       <defs>\n        <path d=\"M 2034 4250 \nQ 1547 4250 1301 3770 \nQ 1056 3291 1056 2328 \nQ 1056 1369 1301 889 \nQ 1547 409 2034 409 \nQ 2525 409 2770 889 \nQ 3016 1369 3016 2328 \nQ 3016 3291 2770 3770 \nQ 2525 4250 2034 4250 \nz\nM 2034 4750 \nQ 2819 4750 3233 4129 \nQ 3647 3509 3647 2328 \nQ 3647 1150 3233 529 \nQ 2819 -91 2034 -91 \nQ 1250 -91 836 529 \nQ 422 1150 422 2328 \nQ 422 3509 836 4129 \nQ 1250 4750 2034 4750 \nz\n\" id=\"DejaVuSans-30\" transform=\"scale(0.015625)\"/>\n       </defs>\n       <use xlink:href=\"#DejaVuSans-30\"/>\n      </g>\n     </g>\n    </g>\n    <g id=\"ytick_2\">\n     <g id=\"line2d_12\">\n      <g>\n       <use style=\"stroke:#000000;stroke-width:0.8;\" x=\"46.965625\" xlink:href=\"#m30dec68306\" y=\"223.503789\"/>\n      </g>\n     </g>\n     <g id=\"text_13\">\n      <!-- 20 -->\n      <g transform=\"translate(27.240625 227.303008)scale(0.1 -0.1)\">\n       <defs>\n        <path d=\"M 1228 531 \nL 3431 531 \nL 3431 0 \nL 469 0 \nL 469 531 \nQ 828 903 1448 1529 \nQ 2069 2156 2228 2338 \nQ 2531 2678 2651 2914 \nQ 2772 3150 2772 3378 \nQ 2772 3750 2511 3984 \nQ 2250 4219 1831 4219 \nQ 1534 4219 1204 4116 \nQ 875 4013 500 3803 \nL 500 4441 \nQ 881 4594 1212 4672 \nQ 1544 4750 1819 4750 \nQ 2544 4750 2975 4387 \nQ 3406 4025 3406 3419 \nQ 3406 3131 3298 2873 \nQ 3191 2616 2906 2266 \nQ 2828 2175 2409 1742 \nQ 1991 1309 1228 531 \nz\n\" id=\"DejaVuSans-32\" transform=\"scale(0.015625)\"/>\n       </defs>\n       <use xlink:href=\"#DejaVuSans-32\"/>\n       <use x=\"63.623047\" xlink:href=\"#DejaVuSans-30\"/>\n      </g>\n     </g>\n    </g>\n    <g id=\"ytick_3\">\n     <g id=\"line2d_13\">\n      <g>\n       <use style=\"stroke:#000000;stroke-width:0.8;\" x=\"46.965625\" xlink:href=\"#m30dec68306\" y=\"185.164454\"/>\n      </g>\n     </g>\n     <g id=\"text_14\">\n      <!-- 40 -->\n      <g transform=\"translate(27.240625 188.963672)scale(0.1 -0.1)\">\n       <defs>\n        <path d=\"M 2419 4116 \nL 825 1625 \nL 2419 1625 \nL 2419 4116 \nz\nM 2253 4666 \nL 3047 4666 \nL 3047 1625 \nL 3713 1625 \nL 3713 1100 \nL 3047 1100 \nL 3047 0 \nL 2419 0 \nL 2419 1100 \nL 313 1100 \nL 313 1709 \nL 2253 4666 \nz\n\" id=\"DejaVuSans-34\" transform=\"scale(0.015625)\"/>\n       </defs>\n       <use xlink:href=\"#DejaVuSans-34\"/>\n       <use x=\"63.623047\" xlink:href=\"#DejaVuSans-30\"/>\n      </g>\n     </g>\n    </g>\n    <g id=\"ytick_4\">\n     <g id=\"line2d_14\">\n      <g>\n       <use style=\"stroke:#000000;stroke-width:0.8;\" x=\"46.965625\" xlink:href=\"#m30dec68306\" y=\"146.825118\"/>\n      </g>\n     </g>\n     <g id=\"text_15\">\n      <!-- 60 -->\n      <g transform=\"translate(27.240625 150.624337)scale(0.1 -0.1)\">\n       <defs>\n        <path d=\"M 2113 2584 \nQ 1688 2584 1439 2293 \nQ 1191 2003 1191 1497 \nQ 1191 994 1439 701 \nQ 1688 409 2113 409 \nQ 2538 409 2786 701 \nQ 3034 994 3034 1497 \nQ 3034 2003 2786 2293 \nQ 2538 2584 2113 2584 \nz\nM 3366 4563 \nL 3366 3988 \nQ 3128 4100 2886 4159 \nQ 2644 4219 2406 4219 \nQ 1781 4219 1451 3797 \nQ 1122 3375 1075 2522 \nQ 1259 2794 1537 2939 \nQ 1816 3084 2150 3084 \nQ 2853 3084 3261 2657 \nQ 3669 2231 3669 1497 \nQ 3669 778 3244 343 \nQ 2819 -91 2113 -91 \nQ 1303 -91 875 529 \nQ 447 1150 447 2328 \nQ 447 3434 972 4092 \nQ 1497 4750 2381 4750 \nQ 2619 4750 2861 4703 \nQ 3103 4656 3366 4563 \nz\n\" id=\"DejaVuSans-36\" transform=\"scale(0.015625)\"/>\n       </defs>\n       <use xlink:href=\"#DejaVuSans-36\"/>\n       <use x=\"63.623047\" xlink:href=\"#DejaVuSans-30\"/>\n      </g>\n     </g>\n    </g>\n    <g id=\"ytick_5\">\n     <g id=\"line2d_15\">\n      <g>\n       <use style=\"stroke:#000000;stroke-width:0.8;\" x=\"46.965625\" xlink:href=\"#m30dec68306\" y=\"108.485782\"/>\n      </g>\n     </g>\n     <g id=\"text_16\">\n      <!-- 80 -->\n      <g transform=\"translate(27.240625 112.285001)scale(0.1 -0.1)\">\n       <defs>\n        <path d=\"M 2034 2216 \nQ 1584 2216 1326 1975 \nQ 1069 1734 1069 1313 \nQ 1069 891 1326 650 \nQ 1584 409 2034 409 \nQ 2484 409 2743 651 \nQ 3003 894 3003 1313 \nQ 3003 1734 2745 1975 \nQ 2488 2216 2034 2216 \nz\nM 1403 2484 \nQ 997 2584 770 2862 \nQ 544 3141 544 3541 \nQ 544 4100 942 4425 \nQ 1341 4750 2034 4750 \nQ 2731 4750 3128 4425 \nQ 3525 4100 3525 3541 \nQ 3525 3141 3298 2862 \nQ 3072 2584 2669 2484 \nQ 3125 2378 3379 2068 \nQ 3634 1759 3634 1313 \nQ 3634 634 3220 271 \nQ 2806 -91 2034 -91 \nQ 1263 -91 848 271 \nQ 434 634 434 1313 \nQ 434 1759 690 2068 \nQ 947 2378 1403 2484 \nz\nM 1172 3481 \nQ 1172 3119 1398 2916 \nQ 1625 2713 2034 2713 \nQ 2441 2713 2670 2916 \nQ 2900 3119 2900 3481 \nQ 2900 3844 2670 4047 \nQ 2441 4250 2034 4250 \nQ 1625 4250 1398 4047 \nQ 1172 3844 1172 3481 \nz\n\" id=\"DejaVuSans-38\" transform=\"scale(0.015625)\"/>\n       </defs>\n       <use xlink:href=\"#DejaVuSans-38\"/>\n       <use x=\"63.623047\" xlink:href=\"#DejaVuSans-30\"/>\n      </g>\n     </g>\n    </g>\n    <g id=\"ytick_6\">\n     <g id=\"line2d_16\">\n      <g>\n       <use style=\"stroke:#000000;stroke-width:0.8;\" x=\"46.965625\" xlink:href=\"#m30dec68306\" y=\"70.146446\"/>\n      </g>\n     </g>\n     <g id=\"text_17\">\n      <!-- 100 -->\n      <g transform=\"translate(20.878125 73.945665)scale(0.1 -0.1)\">\n       <defs>\n        <path d=\"M 794 531 \nL 1825 531 \nL 1825 4091 \nL 703 3866 \nL 703 4441 \nL 1819 4666 \nL 2450 4666 \nL 2450 531 \nL 3481 531 \nL 3481 0 \nL 794 0 \nL 794 531 \nz\n\" id=\"DejaVuSans-31\" transform=\"scale(0.015625)\"/>\n       </defs>\n       <use xlink:href=\"#DejaVuSans-31\"/>\n       <use x=\"63.623047\" xlink:href=\"#DejaVuSans-30\"/>\n       <use x=\"127.246094\" xlink:href=\"#DejaVuSans-30\"/>\n      </g>\n     </g>\n    </g>\n    <g id=\"ytick_7\">\n     <g id=\"line2d_17\">\n      <g>\n       <use style=\"stroke:#000000;stroke-width:0.8;\" x=\"46.965625\" xlink:href=\"#m30dec68306\" y=\"31.807111\"/>\n      </g>\n     </g>\n     <g id=\"text_18\">\n      <!-- 120 -->\n      <g transform=\"translate(20.878125 35.606329)scale(0.1 -0.1)\">\n       <use xlink:href=\"#DejaVuSans-31\"/>\n       <use x=\"63.623047\" xlink:href=\"#DejaVuSans-32\"/>\n       <use x=\"127.246094\" xlink:href=\"#DejaVuSans-30\"/>\n      </g>\n     </g>\n    </g>\n    <g id=\"text_19\">\n     <!-- number -->\n     <g transform=\"translate(14.798437 161.594688)rotate(-90)scale(0.1 -0.1)\">\n      <use xlink:href=\"#DejaVuSans-6e\"/>\n      <use x=\"63.378906\" xlink:href=\"#DejaVuSans-75\"/>\n      <use x=\"126.757812\" xlink:href=\"#DejaVuSans-6d\"/>\n      <use x=\"224.169922\" xlink:href=\"#DejaVuSans-62\"/>\n      <use x=\"287.646484\" xlink:href=\"#DejaVuSans-65\"/>\n      <use x=\"349.169922\" xlink:href=\"#DejaVuSans-72\"/>\n     </g>\n    </g>\n   </g>\n   <g id=\"patch_13\">\n    <path d=\"M 46.965625 261.843125 \nL 46.965625 22.318125 \n\" style=\"fill:none;stroke:#000000;stroke-linecap:square;stroke-linejoin:miter;stroke-width:0.8;\"/>\n   </g>\n   <g id=\"patch_14\">\n    <path d=\"M 429.490625 261.843125 \nL 429.490625 22.318125 \n\" style=\"fill:none;stroke:#000000;stroke-linecap:square;stroke-linejoin:miter;stroke-width:0.8;\"/>\n   </g>\n   <g id=\"patch_15\">\n    <path d=\"M 46.965625 261.843125 \nL 429.490625 261.843125 \n\" style=\"fill:none;stroke:#000000;stroke-linecap:square;stroke-linejoin:miter;stroke-width:0.8;\"/>\n   </g>\n   <g id=\"patch_16\">\n    <path d=\"M 46.965625 22.318125 \nL 429.490625 22.318125 \n\" style=\"fill:none;stroke:#000000;stroke-linecap:square;stroke-linejoin:miter;stroke-width:0.8;\"/>\n   </g>\n   <g id=\"text_20\">\n    <!-- fruits Graphs -->\n    <g transform=\"translate(199.265625 16.318125)scale(0.12 -0.12)\">\n     <defs>\n      <path d=\"M 2375 4863 \nL 2375 4384 \nL 1825 4384 \nQ 1516 4384 1395 4259 \nQ 1275 4134 1275 3809 \nL 1275 3500 \nL 2222 3500 \nL 2222 3053 \nL 1275 3053 \nL 1275 0 \nL 697 0 \nL 697 3053 \nL 147 3053 \nL 147 3500 \nL 697 3500 \nL 697 3744 \nQ 697 4328 969 4595 \nQ 1241 4863 1831 4863 \nL 2375 4863 \nz\n\" id=\"DejaVuSans-66\" transform=\"scale(0.015625)\"/>\n      <path id=\"DejaVuSans-20\" transform=\"scale(0.015625)\"/>\n      <path d=\"M 3809 666 \nL 3809 1919 \nL 2778 1919 \nL 2778 2438 \nL 4434 2438 \nL 4434 434 \nQ 4069 175 3628 42 \nQ 3188 -91 2688 -91 \nQ 1594 -91 976 548 \nQ 359 1188 359 2328 \nQ 359 3472 976 4111 \nQ 1594 4750 2688 4750 \nQ 3144 4750 3555 4637 \nQ 3966 4525 4313 4306 \nL 4313 3634 \nQ 3963 3931 3569 4081 \nQ 3175 4231 2741 4231 \nQ 1884 4231 1454 3753 \nQ 1025 3275 1025 2328 \nQ 1025 1384 1454 906 \nQ 1884 428 2741 428 \nQ 3075 428 3337 486 \nQ 3600 544 3809 666 \nz\n\" id=\"DejaVuSans-47\" transform=\"scale(0.015625)\"/>\n     </defs>\n     <use xlink:href=\"#DejaVuSans-66\"/>\n     <use x=\"35.205078\" xlink:href=\"#DejaVuSans-72\"/>\n     <use x=\"76.318359\" xlink:href=\"#DejaVuSans-75\"/>\n     <use x=\"139.697266\" xlink:href=\"#DejaVuSans-69\"/>\n     <use x=\"167.480469\" xlink:href=\"#DejaVuSans-74\"/>\n     <use x=\"206.689453\" xlink:href=\"#DejaVuSans-73\"/>\n     <use x=\"258.789062\" xlink:href=\"#DejaVuSans-20\"/>\n     <use x=\"290.576172\" xlink:href=\"#DejaVuSans-47\"/>\n     <use x=\"368.066406\" xlink:href=\"#DejaVuSans-72\"/>\n     <use x=\"409.179688\" xlink:href=\"#DejaVuSans-61\"/>\n     <use x=\"470.458984\" xlink:href=\"#DejaVuSans-70\"/>\n     <use x=\"533.935547\" xlink:href=\"#DejaVuSans-68\"/>\n     <use x=\"597.314453\" xlink:href=\"#DejaVuSans-73\"/>\n    </g>\n   </g>\n  </g>\n </g>\n <defs>\n  <clipPath id=\"p8b96ff59cf\">\n   <rect height=\"239.525\" width=\"382.525\" x=\"46.965625\" y=\"22.318125\"/>\n  </clipPath>\n </defs>\n</svg>\n",
      "image/png": "[encoded data removed]"
     },
     "metadata": {
      "needs_background": "light"
     }
    }
   ],
   "metadata": {}
  },
  {
   "cell_type": "markdown",
   "source": [
    "### (5)求めたデータを用いて以下のnumpy配列A,Bを作成せよ(2点)\n",
    "$$\n",
    "A = \\left(\n",
    "\\begin{matrix} \n",
    " strawberryの個数　 & watermelonの個数　 \\\\ \n",
    "orangeの個数　 & bananaの個数　 \n",
    "\\end{matrix} \n",
    "\\right)\n",
    "$$\n",
    "$$\n",
    "B = \\left(\n",
    "\\begin{matrix} \n",
    " plumの個数　 & grapeの個数　 \\\\ \n",
    "cherryの個数　 & appleの個数　 \n",
    "\\end{matrix} \n",
    "\\right)\n",
    "$$"
   ],
   "metadata": {}
  },
  {
   "cell_type": "code",
   "execution_count": 202,
   "source": [
    "#配列A、Bの作成\n",
    "import numpy as np\n",
    "A = np.array([\n",
    "    [count_strawberry, count_watermelon],\n",
    "    [count_orange, count_banana]\n",
    "    ])\n",
    "\n",
    "\n",
    "\n",
    "B = np.array([\n",
    "    [count_plum, count_grape],\n",
    "    [count_cherry, count_apple]\n",
    "])\n",
    "\n",
    "\n",
    "print(A) #1点\n",
    "print(B) #1点"
   ],
   "outputs": [
    {
     "output_type": "stream",
     "name": "stdout",
     "text": [
      "[[ 93  98]\n",
      " [101  92]]\n",
      "[[112 102]\n",
      " [ 96  98]]\n"
     ]
    }
   ],
   "metadata": {}
  },
  {
   "cell_type": "markdown",
   "source": [
    "### (6)行列の和`A+B`及び、内積`A・B`を表示せよ(2点)"
   ],
   "metadata": {}
  },
  {
   "cell_type": "code",
   "execution_count": 203,
   "source": [
    "#行列の和の表示 #1点\n",
    "print(A + B)\n",
    "\n",
    "#行列の内積の表示 #1点\n",
    "print(np.dot(A, B))\n"
   ],
   "outputs": [
    {
     "output_type": "stream",
     "name": "stdout",
     "text": [
      "[[205 200]\n",
      " [197 190]]\n",
      "[[19824 19090]\n",
      " [20144 19318]]\n"
     ]
    }
   ],
   "metadata": {}
  },
  {
   "cell_type": "markdown",
   "source": [
    "### 問3 線形回帰(12点)"
   ],
   "metadata": {}
  },
  {
   "cell_type": "markdown",
   "source": [
    "ワインデータセットを用いて、ワインの品質を回帰分析によって予測する問題を考える。  "
   ],
   "metadata": {}
  },
  {
   "cell_type": "code",
   "execution_count": 204,
   "source": [
    "# コード改変禁止\n",
    "# データをインポート\n",
    "import pandas as pd\n",
    "\n",
    "data1 = pd.read_csv('./test_data.csv')\n",
    "data1.head()"
   ],
   "outputs": [
    {
     "output_type": "execute_result",
     "data": {
      "text/plain": [
       "   fixed acidity  volatile acidity  citric acid  residual sugar  chlorides  \\\n",
       "0            7.4              0.70         0.00             1.9      0.076   \n",
       "1            7.8              0.88         0.00             2.6      0.098   \n",
       "2            7.8              0.76         0.04             2.3      0.092   \n",
       "3           11.2              0.28         0.56             1.9      0.075   \n",
       "4            7.4              0.70         0.00             1.9      0.076   \n",
       "\n",
       "   free sulfur dioxide  total sulfur dioxide  density    pH  sulphates  \\\n",
       "0                 11.0                  34.0   0.9978  3.51       0.56   \n",
       "1                 25.0                  67.0   0.9968  3.20       0.68   \n",
       "2                 15.0                  54.0   0.9970  3.26       0.65   \n",
       "3                 17.0                  60.0   0.9980  3.16       0.58   \n",
       "4                 11.0                  34.0   0.9978  3.51       0.56   \n",
       "\n",
       "   alcohol  quality  \n",
       "0      9.4        5  \n",
       "1      9.8        5  \n",
       "2      9.8        5  \n",
       "3      9.8        6  \n",
       "4      9.4        5  "
      ],
      "text/html": [
       "<div>\n",
       "<style scoped>\n",
       "    .dataframe tbody tr th:only-of-type {\n",
       "        vertical-align: middle;\n",
       "    }\n",
       "\n",
       "    .dataframe tbody tr th {\n",
       "        vertical-align: top;\n",
       "    }\n",
       "\n",
       "    .dataframe thead th {\n",
       "        text-align: right;\n",
       "    }\n",
       "</style>\n",
       "<table border=\"1\" class=\"dataframe\">\n",
       "  <thead>\n",
       "    <tr style=\"text-align: right;\">\n",
       "      <th></th>\n",
       "      <th>fixed acidity</th>\n",
       "      <th>volatile acidity</th>\n",
       "      <th>citric acid</th>\n",
       "      <th>residual sugar</th>\n",
       "      <th>chlorides</th>\n",
       "      <th>free sulfur dioxide</th>\n",
       "      <th>total sulfur dioxide</th>\n",
       "      <th>density</th>\n",
       "      <th>pH</th>\n",
       "      <th>sulphates</th>\n",
       "      <th>alcohol</th>\n",
       "      <th>quality</th>\n",
       "    </tr>\n",
       "  </thead>\n",
       "  <tbody>\n",
       "    <tr>\n",
       "      <th>0</th>\n",
       "      <td>7.4</td>\n",
       "      <td>0.70</td>\n",
       "      <td>0.00</td>\n",
       "      <td>1.9</td>\n",
       "      <td>0.076</td>\n",
       "      <td>11.0</td>\n",
       "      <td>34.0</td>\n",
       "      <td>0.9978</td>\n",
       "      <td>3.51</td>\n",
       "      <td>0.56</td>\n",
       "      <td>9.4</td>\n",
       "      <td>5</td>\n",
       "    </tr>\n",
       "    <tr>\n",
       "      <th>1</th>\n",
       "      <td>7.8</td>\n",
       "      <td>0.88</td>\n",
       "      <td>0.00</td>\n",
       "      <td>2.6</td>\n",
       "      <td>0.098</td>\n",
       "      <td>25.0</td>\n",
       "      <td>67.0</td>\n",
       "      <td>0.9968</td>\n",
       "      <td>3.20</td>\n",
       "      <td>0.68</td>\n",
       "      <td>9.8</td>\n",
       "      <td>5</td>\n",
       "    </tr>\n",
       "    <tr>\n",
       "      <th>2</th>\n",
       "      <td>7.8</td>\n",
       "      <td>0.76</td>\n",
       "      <td>0.04</td>\n",
       "      <td>2.3</td>\n",
       "      <td>0.092</td>\n",
       "      <td>15.0</td>\n",
       "      <td>54.0</td>\n",
       "      <td>0.9970</td>\n",
       "      <td>3.26</td>\n",
       "      <td>0.65</td>\n",
       "      <td>9.8</td>\n",
       "      <td>5</td>\n",
       "    </tr>\n",
       "    <tr>\n",
       "      <th>3</th>\n",
       "      <td>11.2</td>\n",
       "      <td>0.28</td>\n",
       "      <td>0.56</td>\n",
       "      <td>1.9</td>\n",
       "      <td>0.075</td>\n",
       "      <td>17.0</td>\n",
       "      <td>60.0</td>\n",
       "      <td>0.9980</td>\n",
       "      <td>3.16</td>\n",
       "      <td>0.58</td>\n",
       "      <td>9.8</td>\n",
       "      <td>6</td>\n",
       "    </tr>\n",
       "    <tr>\n",
       "      <th>4</th>\n",
       "      <td>7.4</td>\n",
       "      <td>0.70</td>\n",
       "      <td>0.00</td>\n",
       "      <td>1.9</td>\n",
       "      <td>0.076</td>\n",
       "      <td>11.0</td>\n",
       "      <td>34.0</td>\n",
       "      <td>0.9978</td>\n",
       "      <td>3.51</td>\n",
       "      <td>0.56</td>\n",
       "      <td>9.4</td>\n",
       "      <td>5</td>\n",
       "    </tr>\n",
       "  </tbody>\n",
       "</table>\n",
       "</div>"
      ]
     },
     "metadata": {},
     "execution_count": 204
    }
   ],
   "metadata": {}
  },
  {
   "cell_type": "markdown",
   "source": [
    "### (1) 説明変数と目的変数'quality'との相関係数行列を出力し、相関の強い変数を順番に3つ答えてください。(2点)"
   ],
   "metadata": {}
  },
  {
   "cell_type": "code",
   "execution_count": 205,
   "source": [
    "# 相関係数行列を出力(1点)\n",
    "data1.corr()\n",
    "\n",
    "#相関の強い変数を大きい順に\n",
    "#alcohol > volatile acidity > sulphates"
   ],
   "outputs": [
    {
     "output_type": "execute_result",
     "data": {
      "text/plain": [
       "                      fixed acidity  volatile acidity  citric acid  \\\n",
       "fixed acidity              1.000000         -0.256131     0.671703   \n",
       "volatile acidity          -0.256131          1.000000    -0.552496   \n",
       "citric acid                0.671703         -0.552496     1.000000   \n",
       "residual sugar             0.114777          0.001918     0.143577   \n",
       "chlorides                  0.093705          0.061298     0.203823   \n",
       "free sulfur dioxide       -0.153794         -0.010504    -0.060978   \n",
       "total sulfur dioxide      -0.113181          0.076470     0.035533   \n",
       "density                    0.668047          0.022026     0.364947   \n",
       "pH                        -0.682978          0.234937    -0.541904   \n",
       "sulphates                  0.183006         -0.260987     0.312770   \n",
       "alcohol                   -0.061668         -0.202288     0.109903   \n",
       "quality                    0.124052         -0.390558     0.226373   \n",
       "\n",
       "                      residual sugar  chlorides  free sulfur dioxide  \\\n",
       "fixed acidity               0.114777   0.093705            -0.153794   \n",
       "volatile acidity            0.001918   0.061298            -0.010504   \n",
       "citric acid                 0.143577   0.203823            -0.060978   \n",
       "residual sugar              1.000000   0.055610             0.187049   \n",
       "chlorides                   0.055610   1.000000             0.005562   \n",
       "free sulfur dioxide         0.187049   0.005562             1.000000   \n",
       "total sulfur dioxide        0.203028   0.047400             0.667666   \n",
       "density                     0.355283   0.200632            -0.021946   \n",
       "pH                         -0.085652  -0.265026             0.070377   \n",
       "sulphates                   0.005527   0.371260             0.051658   \n",
       "alcohol                     0.042075  -0.221141            -0.069408   \n",
       "quality                     0.013732  -0.128907            -0.050656   \n",
       "\n",
       "                      total sulfur dioxide   density        pH  sulphates  \\\n",
       "fixed acidity                    -0.113181  0.668047 -0.682978   0.183006   \n",
       "volatile acidity                  0.076470  0.022026  0.234937  -0.260987   \n",
       "citric acid                       0.035533  0.364947 -0.541904   0.312770   \n",
       "residual sugar                    0.203028  0.355283 -0.085652   0.005527   \n",
       "chlorides                         0.047400  0.200632 -0.265026   0.371260   \n",
       "free sulfur dioxide               0.667666 -0.021946  0.070377   0.051658   \n",
       "total sulfur dioxide              1.000000  0.071269 -0.066495   0.042947   \n",
       "density                           0.071269  1.000000 -0.341699   0.148506   \n",
       "pH                               -0.066495 -0.341699  1.000000  -0.196648   \n",
       "sulphates                         0.042947  0.148506 -0.196648   1.000000   \n",
       "alcohol                          -0.205654 -0.496180  0.205633   0.093595   \n",
       "quality                          -0.185100 -0.174919 -0.057731   0.251397   \n",
       "\n",
       "                       alcohol   quality  \n",
       "fixed acidity        -0.061668  0.124052  \n",
       "volatile acidity     -0.202288 -0.390558  \n",
       "citric acid           0.109903  0.226373  \n",
       "residual sugar        0.042075  0.013732  \n",
       "chlorides            -0.221141 -0.128907  \n",
       "free sulfur dioxide  -0.069408 -0.050656  \n",
       "total sulfur dioxide -0.205654 -0.185100  \n",
       "density              -0.496180 -0.174919  \n",
       "pH                    0.205633 -0.057731  \n",
       "sulphates             0.093595  0.251397  \n",
       "alcohol               1.000000  0.476166  \n",
       "quality               0.476166  1.000000  "
      ],
      "text/html": [
       "<div>\n",
       "<style scoped>\n",
       "    .dataframe tbody tr th:only-of-type {\n",
       "        vertical-align: middle;\n",
       "    }\n",
       "\n",
       "    .dataframe tbody tr th {\n",
       "        vertical-align: top;\n",
       "    }\n",
       "\n",
       "    .dataframe thead th {\n",
       "        text-align: right;\n",
       "    }\n",
       "</style>\n",
       "<table border=\"1\" class=\"dataframe\">\n",
       "  <thead>\n",
       "    <tr style=\"text-align: right;\">\n",
       "      <th></th>\n",
       "      <th>fixed acidity</th>\n",
       "      <th>volatile acidity</th>\n",
       "      <th>citric acid</th>\n",
       "      <th>residual sugar</th>\n",
       "      <th>chlorides</th>\n",
       "      <th>free sulfur dioxide</th>\n",
       "      <th>total sulfur dioxide</th>\n",
       "      <th>density</th>\n",
       "      <th>pH</th>\n",
       "      <th>sulphates</th>\n",
       "      <th>alcohol</th>\n",
       "      <th>quality</th>\n",
       "    </tr>\n",
       "  </thead>\n",
       "  <tbody>\n",
       "    <tr>\n",
       "      <th>fixed acidity</th>\n",
       "      <td>1.000000</td>\n",
       "      <td>-0.256131</td>\n",
       "      <td>0.671703</td>\n",
       "      <td>0.114777</td>\n",
       "      <td>0.093705</td>\n",
       "      <td>-0.153794</td>\n",
       "      <td>-0.113181</td>\n",
       "      <td>0.668047</td>\n",
       "      <td>-0.682978</td>\n",
       "      <td>0.183006</td>\n",
       "      <td>-0.061668</td>\n",
       "      <td>0.124052</td>\n",
       "    </tr>\n",
       "    <tr>\n",
       "      <th>volatile acidity</th>\n",
       "      <td>-0.256131</td>\n",
       "      <td>1.000000</td>\n",
       "      <td>-0.552496</td>\n",
       "      <td>0.001918</td>\n",
       "      <td>0.061298</td>\n",
       "      <td>-0.010504</td>\n",
       "      <td>0.076470</td>\n",
       "      <td>0.022026</td>\n",
       "      <td>0.234937</td>\n",
       "      <td>-0.260987</td>\n",
       "      <td>-0.202288</td>\n",
       "      <td>-0.390558</td>\n",
       "    </tr>\n",
       "    <tr>\n",
       "      <th>citric acid</th>\n",
       "      <td>0.671703</td>\n",
       "      <td>-0.552496</td>\n",
       "      <td>1.000000</td>\n",
       "      <td>0.143577</td>\n",
       "      <td>0.203823</td>\n",
       "      <td>-0.060978</td>\n",
       "      <td>0.035533</td>\n",
       "      <td>0.364947</td>\n",
       "      <td>-0.541904</td>\n",
       "      <td>0.312770</td>\n",
       "      <td>0.109903</td>\n",
       "      <td>0.226373</td>\n",
       "    </tr>\n",
       "    <tr>\n",
       "      <th>residual sugar</th>\n",
       "      <td>0.114777</td>\n",
       "      <td>0.001918</td>\n",
       "      <td>0.143577</td>\n",
       "      <td>1.000000</td>\n",
       "      <td>0.055610</td>\n",
       "      <td>0.187049</td>\n",
       "      <td>0.203028</td>\n",
       "      <td>0.355283</td>\n",
       "      <td>-0.085652</td>\n",
       "      <td>0.005527</td>\n",
       "      <td>0.042075</td>\n",
       "      <td>0.013732</td>\n",
       "    </tr>\n",
       "    <tr>\n",
       "      <th>chlorides</th>\n",
       "      <td>0.093705</td>\n",
       "      <td>0.061298</td>\n",
       "      <td>0.203823</td>\n",
       "      <td>0.055610</td>\n",
       "      <td>1.000000</td>\n",
       "      <td>0.005562</td>\n",
       "      <td>0.047400</td>\n",
       "      <td>0.200632</td>\n",
       "      <td>-0.265026</td>\n",
       "      <td>0.371260</td>\n",
       "      <td>-0.221141</td>\n",
       "      <td>-0.128907</td>\n",
       "    </tr>\n",
       "    <tr>\n",
       "      <th>free sulfur dioxide</th>\n",
       "      <td>-0.153794</td>\n",
       "      <td>-0.010504</td>\n",
       "      <td>-0.060978</td>\n",
       "      <td>0.187049</td>\n",
       "      <td>0.005562</td>\n",
       "      <td>1.000000</td>\n",
       "      <td>0.667666</td>\n",
       "      <td>-0.021946</td>\n",
       "      <td>0.070377</td>\n",
       "      <td>0.051658</td>\n",
       "      <td>-0.069408</td>\n",
       "      <td>-0.050656</td>\n",
       "    </tr>\n",
       "    <tr>\n",
       "      <th>total sulfur dioxide</th>\n",
       "      <td>-0.113181</td>\n",
       "      <td>0.076470</td>\n",
       "      <td>0.035533</td>\n",
       "      <td>0.203028</td>\n",
       "      <td>0.047400</td>\n",
       "      <td>0.667666</td>\n",
       "      <td>1.000000</td>\n",
       "      <td>0.071269</td>\n",
       "      <td>-0.066495</td>\n",
       "      <td>0.042947</td>\n",
       "      <td>-0.205654</td>\n",
       "      <td>-0.185100</td>\n",
       "    </tr>\n",
       "    <tr>\n",
       "      <th>density</th>\n",
       "      <td>0.668047</td>\n",
       "      <td>0.022026</td>\n",
       "      <td>0.364947</td>\n",
       "      <td>0.355283</td>\n",
       "      <td>0.200632</td>\n",
       "      <td>-0.021946</td>\n",
       "      <td>0.071269</td>\n",
       "      <td>1.000000</td>\n",
       "      <td>-0.341699</td>\n",
       "      <td>0.148506</td>\n",
       "      <td>-0.496180</td>\n",
       "      <td>-0.174919</td>\n",
       "    </tr>\n",
       "    <tr>\n",
       "      <th>pH</th>\n",
       "      <td>-0.682978</td>\n",
       "      <td>0.234937</td>\n",
       "      <td>-0.541904</td>\n",
       "      <td>-0.085652</td>\n",
       "      <td>-0.265026</td>\n",
       "      <td>0.070377</td>\n",
       "      <td>-0.066495</td>\n",
       "      <td>-0.341699</td>\n",
       "      <td>1.000000</td>\n",
       "      <td>-0.196648</td>\n",
       "      <td>0.205633</td>\n",
       "      <td>-0.057731</td>\n",
       "    </tr>\n",
       "    <tr>\n",
       "      <th>sulphates</th>\n",
       "      <td>0.183006</td>\n",
       "      <td>-0.260987</td>\n",
       "      <td>0.312770</td>\n",
       "      <td>0.005527</td>\n",
       "      <td>0.371260</td>\n",
       "      <td>0.051658</td>\n",
       "      <td>0.042947</td>\n",
       "      <td>0.148506</td>\n",
       "      <td>-0.196648</td>\n",
       "      <td>1.000000</td>\n",
       "      <td>0.093595</td>\n",
       "      <td>0.251397</td>\n",
       "    </tr>\n",
       "    <tr>\n",
       "      <th>alcohol</th>\n",
       "      <td>-0.061668</td>\n",
       "      <td>-0.202288</td>\n",
       "      <td>0.109903</td>\n",
       "      <td>0.042075</td>\n",
       "      <td>-0.221141</td>\n",
       "      <td>-0.069408</td>\n",
       "      <td>-0.205654</td>\n",
       "      <td>-0.496180</td>\n",
       "      <td>0.205633</td>\n",
       "      <td>0.093595</td>\n",
       "      <td>1.000000</td>\n",
       "      <td>0.476166</td>\n",
       "    </tr>\n",
       "    <tr>\n",
       "      <th>quality</th>\n",
       "      <td>0.124052</td>\n",
       "      <td>-0.390558</td>\n",
       "      <td>0.226373</td>\n",
       "      <td>0.013732</td>\n",
       "      <td>-0.128907</td>\n",
       "      <td>-0.050656</td>\n",
       "      <td>-0.185100</td>\n",
       "      <td>-0.174919</td>\n",
       "      <td>-0.057731</td>\n",
       "      <td>0.251397</td>\n",
       "      <td>0.476166</td>\n",
       "      <td>1.000000</td>\n",
       "    </tr>\n",
       "  </tbody>\n",
       "</table>\n",
       "</div>"
      ]
     },
     "metadata": {},
     "execution_count": 205
    }
   ],
   "metadata": {}
  },
  {
   "cell_type": "markdown",
   "source": [
    "#### 相関の強い変数を順番にMarkdown形式で3つ答えてください。(1点)\n",
    "相関が強いものから、[alcohol , volatile acidity , sulphates]"
   ],
   "metadata": {}
  },
  {
   "cell_type": "markdown",
   "source": [
    "### (2) 以下の指示にしたがってデータの前処理を行ってください。(4点)"
   ],
   "metadata": {}
  },
  {
   "cell_type": "code",
   "execution_count": 206,
   "source": [
    "#sklearn.model_selectionからtrain_test_splitをimportする\n",
    "from sklearn.model_selection import train_test_split\n",
    "\n",
    "#sklearn.preprocessingからStandardScalerimportする\n",
    "from sklearn.preprocessing import StandardScaler\n",
    "#(全1点)"
   ],
   "outputs": [],
   "metadata": {}
  },
  {
   "cell_type": "code",
   "execution_count": 207,
   "source": [
    "# Xに(1)で選んだ３つの変数、yに'quality' の値を代入してください。(1点)\n",
    "\n",
    "X = data1.loc[:, ['volatile acidity', 'sulphates', 'alcohol']].values\n",
    "y = data1.loc[:, ['quality']].values\n",
    "\n",
    "# X, yに対してデータの標準化を行ってください。(1点)\n",
    "ss = StandardScaler()\n",
    "X_std = ss.fit_transform(X)\n",
    "y_std = ss.fit_transform(y)\n",
    "\n",
    "\n",
    "\n",
    "# ホールドアウト法でデータを分割してください。ただし、trainデータの割合75%,とする。(1点)\n",
    "X_train, X_test, y_train, y_test = train_test_split(X_std, y_std, test_size = 0.25, random_state = 0)\n"
   ],
   "outputs": [],
   "metadata": {}
  },
  {
   "cell_type": "code",
   "execution_count": 208,
   "source": [
    "print(X.shape)\n",
    "print(y.shape)\n",
    "print(data1.shape)\n",
    "print(X_train.shape)\n",
    "print(y_train.shape)\n",
    "print(X_std.shape)\n",
    "print(y_std.shape)"
   ],
   "outputs": [
    {
     "output_type": "stream",
     "name": "stdout",
     "text": [
      "(1599, 3)\n",
      "(1599, 1)\n",
      "(1599, 12)\n",
      "(1199, 3)\n",
      "(1199, 1)\n",
      "(1599, 3)\n",
      "(1599, 1)\n"
     ]
    }
   ],
   "metadata": {}
  },
  {
   "cell_type": "markdown",
   "source": [
    "### (3) 以下の指示にしたがって線形回帰モデルを学習させ、性能評価を行ってください。(4点)"
   ],
   "metadata": {}
  },
  {
   "cell_type": "code",
   "execution_count": 209,
   "source": [
    "#sklearn.linear_modelからLinearRegressionをimportする\n",
    "from sklearn.linear_model import LinearRegression\n",
    "\n",
    "#sklearn.metricsからmean_squared_errorをmseとしてimportする\n",
    "from sklearn.metrics import mean_squared_error as mse\n",
    "#(全1点)"
   ],
   "outputs": [],
   "metadata": {}
  },
  {
   "cell_type": "code",
   "execution_count": 210,
   "source": [
    "# 線形回帰インスタンスを生成(1点)\n",
    "lr_std = LinearRegression()\n",
    "\n",
    "# 重回帰分析の学習を行ってください(1点)\n",
    "lr_std.fit(X_std, y_std)\n",
    "\n",
    "# trainデータとtestデータのそれぞれについてRMSE(平均二乗誤差の平方根)を出力してください(1点)\n",
    "print('RMSE')\n",
    "print('train : %.3f' % (mse(y_train, lr_std.predict(X_train)) ** (1/2)))\n",
    "print('test : %.3f' % (mse(y_test, lr_std.predict(X_test)) ** (1/2)))"
   ],
   "outputs": [
    {
     "output_type": "stream",
     "name": "stdout",
     "text": [
      "RMSE\n",
      "train : 0.821\n",
      "test : 0.796\n"
     ]
    }
   ],
   "metadata": {}
  },
  {
   "cell_type": "markdown",
   "source": [
    "### (4) 学習モデルの標準変回帰係数を出力し、重要度の高い変数を順番に3つ答えてください。(2点)"
   ],
   "metadata": {}
  },
  {
   "cell_type": "code",
   "execution_count": 211,
   "source": [
    "# 標準変回帰係数の出力(1点)\n",
    "lr_std.coef_\n",
    "\n"
   ],
   "outputs": [
    {
     "output_type": "execute_result",
     "data": {
      "text/plain": [
       "array([[-0.27081798,  0.14252648,  0.40804336]])"
      ]
     },
     "metadata": {},
     "execution_count": 211
    }
   ],
   "metadata": {}
  },
  {
   "cell_type": "markdown",
   "source": [
    "array([[-4.25000793e-16,  9.85322934e-16,  5.20417043e-16,\n",
    "        -1.88217497e-16,  2.28116137e-16,  8.23993651e-16,\n",
    "        -3.85975973e-16,  6.59194921e-16, -1.11022302e-16,\n",
    "        -7.45931095e-17, -8.06646416e-17,  1.00000000e+00]])"
   ],
   "metadata": {}
  },
  {
   "cell_type": "markdown",
   "source": [
    "#### 重要度の強い変数を順番にMarkdown形式で3つ答えてください。(1点)\n",
    "重要度が強いものから、 \n",
    "    alcohol, \n",
    "    volatile acidity, \n",
    "    sulphates"
   ],
   "metadata": {}
  }
 ],
 "metadata": {
  "kernelspec": {
   "name": "python3",
   "display_name": "Python 3.8.10 64-bit"
  },
  "language_info": {
   "codemirror_mode": {
    "name": "ipython",
    "version": 3
   },
   "file_extension": ".py",
   "mimetype": "text/x-python",
   "name": "python",
   "nbconvert_exporter": "python",
   "pygments_lexer": "ipython3",
   "version": "3.8.10"
  },
  "interpreter": {
   "hash": "31f2aee4e71d21fbe5cf8b01ff0e069b9275f58929596ceb00d14d90e3e16cd6"
  }
 },
 "nbformat": 4,
 "nbformat_minor": 2
}